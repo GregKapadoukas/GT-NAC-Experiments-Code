{
 "cells": [
  {
   "cell_type": "code",
   "execution_count": 1,
   "id": "e23d18f1",
   "metadata": {},
   "outputs": [],
   "source": [
    "import pandas as pd\n",
    "import os\n",
    "import gc\n",
    "\n",
    "def checkDataframeSplitting(dataset_path):\n",
    "    file_list = os.listdir(dataset_path)\n",
    "    for file_name in file_list:\n",
    "        if file_name.endswith('.csv'):\n",
    "            file_path = os.path.join(dataset_path, file_name)\n",
    "            print(f\"CSV File: {file_name}\")\n",
    "            if (file_name != 'TFTP.csv'):\n",
    "                df = pd.read_csv(file_path)\n",
    "                print(f\"Malicious df contains labels: {df[(df[' Source IP'] == '172.16.0.5') | (df[' Destination IP'] == '172.16.0.5')][' Label'].unique()}\")\n",
    "                print(f\"Benign df contains labels: {df[(df[' Source IP'] != '172.16.0.5') & (df[' Destination IP'] != '172.16.0.5')][' Label'].unique()}\")\n",
    "                del df\n",
    "                gc.collect()\n",
    "            else:\n",
    "                chunksize = 10 ** 6\n",
    "                i = 1\n",
    "                print(\"Process in chunks because of memory constraints\")\n",
    "                for df in pd.read_csv(file_path, chunksize=chunksize):\n",
    "                    print(f\"Chunk {i}\")\n",
    "                    print(f\"Malicious df contains labels: {df[(df[' Source IP'] == '172.16.0.5') | (df[' Destination IP'] == '172.16.0.5')][' Label'].unique()}\")\n",
    "                    print(f\"Benign df contains labels: {df[(df[' Source IP'] != '172.16.0.5') & (df[' Destination IP'] != '172.16.0.5')][' Label'].unique()}\")\n",
    "                    del df\n",
    "                    gc.collect()\n",
    "                    i+=1"
   ]
  },
  {
   "cell_type": "code",
   "execution_count": 2,
   "id": "44bd41b9",
   "metadata": {},
   "outputs": [
    {
     "name": "stdout",
     "output_type": "stream",
     "text": [
      "CSV File: UDPLag.csv\n"
     ]
    },
    {
     "name": "stderr",
     "output_type": "stream",
     "text": [
      "/tmp/ipykernel_10342/2368031123.py:12: DtypeWarning: Columns (85) have mixed types. Specify dtype option on import or set low_memory=False.\n",
      "  df = pd.read_csv(file_path)\n"
     ]
    },
    {
     "name": "stdout",
     "output_type": "stream",
     "text": [
      "Malicious df contains labels: ['UDP-lag' 'WebDDoS']\n",
      "Benign df contains labels: ['BENIGN']\n",
      "CSV File: DrDoS_UDP.csv\n"
     ]
    },
    {
     "name": "stderr",
     "output_type": "stream",
     "text": [
      "/tmp/ipykernel_10342/2368031123.py:12: DtypeWarning: Columns (85) have mixed types. Specify dtype option on import or set low_memory=False.\n",
      "  df = pd.read_csv(file_path)\n"
     ]
    },
    {
     "name": "stdout",
     "output_type": "stream",
     "text": [
      "Malicious df contains labels: ['DrDoS_UDP']\n",
      "Benign df contains labels: ['BENIGN']\n",
      "CSV File: Syn.csv\n"
     ]
    },
    {
     "name": "stderr",
     "output_type": "stream",
     "text": [
      "/tmp/ipykernel_10342/2368031123.py:12: DtypeWarning: Columns (85) have mixed types. Specify dtype option on import or set low_memory=False.\n",
      "  df = pd.read_csv(file_path)\n"
     ]
    },
    {
     "name": "stdout",
     "output_type": "stream",
     "text": [
      "Malicious df contains labels: ['Syn']\n",
      "Benign df contains labels: ['BENIGN']\n",
      "CSV File: DrDoS_NetBIOS.csv\n"
     ]
    },
    {
     "name": "stderr",
     "output_type": "stream",
     "text": [
      "/tmp/ipykernel_10342/2368031123.py:12: DtypeWarning: Columns (85) have mixed types. Specify dtype option on import or set low_memory=False.\n",
      "  df = pd.read_csv(file_path)\n"
     ]
    },
    {
     "name": "stdout",
     "output_type": "stream",
     "text": [
      "Malicious df contains labels: ['DrDoS_NetBIOS']\n",
      "Benign df contains labels: ['BENIGN']\n",
      "CSV File: DrDoS_MSSQL.csv\n"
     ]
    },
    {
     "name": "stderr",
     "output_type": "stream",
     "text": [
      "/tmp/ipykernel_10342/2368031123.py:12: DtypeWarning: Columns (85) have mixed types. Specify dtype option on import or set low_memory=False.\n",
      "  df = pd.read_csv(file_path)\n"
     ]
    },
    {
     "name": "stdout",
     "output_type": "stream",
     "text": [
      "Malicious df contains labels: ['DrDoS_MSSQL']\n",
      "Benign df contains labels: ['BENIGN']\n",
      "CSV File: DrDoS_LDAP.csv\n"
     ]
    },
    {
     "name": "stderr",
     "output_type": "stream",
     "text": [
      "/tmp/ipykernel_10342/2368031123.py:12: DtypeWarning: Columns (85) have mixed types. Specify dtype option on import or set low_memory=False.\n",
      "  df = pd.read_csv(file_path)\n"
     ]
    },
    {
     "name": "stdout",
     "output_type": "stream",
     "text": [
      "Malicious df contains labels: ['DrDoS_LDAP']\n",
      "Benign df contains labels: ['BENIGN']\n",
      "CSV File: DrDoS_DNS.csv\n"
     ]
    },
    {
     "name": "stderr",
     "output_type": "stream",
     "text": [
      "/tmp/ipykernel_10342/2368031123.py:12: DtypeWarning: Columns (85) have mixed types. Specify dtype option on import or set low_memory=False.\n",
      "  df = pd.read_csv(file_path)\n"
     ]
    },
    {
     "name": "stdout",
     "output_type": "stream",
     "text": [
      "Malicious df contains labels: ['DrDoS_DNS']\n",
      "Benign df contains labels: ['BENIGN']\n",
      "CSV File: DrDoS_SSDP.csv\n"
     ]
    },
    {
     "name": "stderr",
     "output_type": "stream",
     "text": [
      "/tmp/ipykernel_10342/2368031123.py:12: DtypeWarning: Columns (85) have mixed types. Specify dtype option on import or set low_memory=False.\n",
      "  df = pd.read_csv(file_path)\n"
     ]
    },
    {
     "name": "stdout",
     "output_type": "stream",
     "text": [
      "Malicious df contains labels: ['DrDoS_SSDP']\n",
      "Benign df contains labels: ['BENIGN']\n",
      "CSV File: TFTP.csv\n",
      "Process in chunks because of memory constraints\n"
     ]
    },
    {
     "name": "stderr",
     "output_type": "stream",
     "text": [
      "/tmp/ipykernel_10342/2368031123.py:21: DtypeWarning: Columns (85) have mixed types. Specify dtype option on import or set low_memory=False.\n",
      "  for df in pd.read_csv(file_path, chunksize=chunksize):\n"
     ]
    },
    {
     "name": "stdout",
     "output_type": "stream",
     "text": [
      "Chunk 1\n",
      "Malicious df contains labels: ['TFTP']\n",
      "Benign df contains labels: ['BENIGN']\n"
     ]
    },
    {
     "name": "stderr",
     "output_type": "stream",
     "text": [
      "/tmp/ipykernel_10342/2368031123.py:21: DtypeWarning: Columns (85) have mixed types. Specify dtype option on import or set low_memory=False.\n",
      "  for df in pd.read_csv(file_path, chunksize=chunksize):\n"
     ]
    },
    {
     "name": "stdout",
     "output_type": "stream",
     "text": [
      "Chunk 2\n",
      "Malicious df contains labels: ['TFTP']\n",
      "Benign df contains labels: ['BENIGN']\n"
     ]
    },
    {
     "name": "stderr",
     "output_type": "stream",
     "text": [
      "/tmp/ipykernel_10342/2368031123.py:21: DtypeWarning: Columns (85) have mixed types. Specify dtype option on import or set low_memory=False.\n",
      "  for df in pd.read_csv(file_path, chunksize=chunksize):\n"
     ]
    },
    {
     "name": "stdout",
     "output_type": "stream",
     "text": [
      "Chunk 3\n",
      "Malicious df contains labels: ['TFTP']\n",
      "Benign df contains labels: ['BENIGN']\n"
     ]
    },
    {
     "name": "stderr",
     "output_type": "stream",
     "text": [
      "/tmp/ipykernel_10342/2368031123.py:21: DtypeWarning: Columns (85) have mixed types. Specify dtype option on import or set low_memory=False.\n",
      "  for df in pd.read_csv(file_path, chunksize=chunksize):\n"
     ]
    },
    {
     "name": "stdout",
     "output_type": "stream",
     "text": [
      "Chunk 4\n",
      "Malicious df contains labels: ['TFTP']\n",
      "Benign df contains labels: ['BENIGN']\n"
     ]
    },
    {
     "name": "stderr",
     "output_type": "stream",
     "text": [
      "/tmp/ipykernel_10342/2368031123.py:21: DtypeWarning: Columns (85) have mixed types. Specify dtype option on import or set low_memory=False.\n",
      "  for df in pd.read_csv(file_path, chunksize=chunksize):\n"
     ]
    },
    {
     "name": "stdout",
     "output_type": "stream",
     "text": [
      "Chunk 5\n",
      "Malicious df contains labels: ['TFTP']\n",
      "Benign df contains labels: ['BENIGN']\n"
     ]
    },
    {
     "name": "stderr",
     "output_type": "stream",
     "text": [
      "/tmp/ipykernel_10342/2368031123.py:21: DtypeWarning: Columns (85) have mixed types. Specify dtype option on import or set low_memory=False.\n",
      "  for df in pd.read_csv(file_path, chunksize=chunksize):\n"
     ]
    },
    {
     "name": "stdout",
     "output_type": "stream",
     "text": [
      "Chunk 6\n",
      "Malicious df contains labels: ['TFTP']\n",
      "Benign df contains labels: ['BENIGN']\n"
     ]
    },
    {
     "name": "stderr",
     "output_type": "stream",
     "text": [
      "/tmp/ipykernel_10342/2368031123.py:21: DtypeWarning: Columns (85) have mixed types. Specify dtype option on import or set low_memory=False.\n",
      "  for df in pd.read_csv(file_path, chunksize=chunksize):\n"
     ]
    },
    {
     "name": "stdout",
     "output_type": "stream",
     "text": [
      "Chunk 7\n",
      "Malicious df contains labels: ['TFTP']\n",
      "Benign df contains labels: ['BENIGN']\n"
     ]
    },
    {
     "name": "stderr",
     "output_type": "stream",
     "text": [
      "/tmp/ipykernel_10342/2368031123.py:21: DtypeWarning: Columns (85) have mixed types. Specify dtype option on import or set low_memory=False.\n",
      "  for df in pd.read_csv(file_path, chunksize=chunksize):\n"
     ]
    },
    {
     "name": "stdout",
     "output_type": "stream",
     "text": [
      "Chunk 8\n",
      "Malicious df contains labels: ['TFTP']\n",
      "Benign df contains labels: ['BENIGN']\n"
     ]
    },
    {
     "name": "stderr",
     "output_type": "stream",
     "text": [
      "/tmp/ipykernel_10342/2368031123.py:21: DtypeWarning: Columns (85) have mixed types. Specify dtype option on import or set low_memory=False.\n",
      "  for df in pd.read_csv(file_path, chunksize=chunksize):\n"
     ]
    },
    {
     "name": "stdout",
     "output_type": "stream",
     "text": [
      "Chunk 9\n",
      "Malicious df contains labels: ['TFTP']\n",
      "Benign df contains labels: ['BENIGN']\n"
     ]
    },
    {
     "name": "stderr",
     "output_type": "stream",
     "text": [
      "/tmp/ipykernel_10342/2368031123.py:21: DtypeWarning: Columns (85) have mixed types. Specify dtype option on import or set low_memory=False.\n",
      "  for df in pd.read_csv(file_path, chunksize=chunksize):\n"
     ]
    },
    {
     "name": "stdout",
     "output_type": "stream",
     "text": [
      "Chunk 10\n",
      "Malicious df contains labels: ['TFTP']\n",
      "Benign df contains labels: ['BENIGN']\n"
     ]
    },
    {
     "name": "stderr",
     "output_type": "stream",
     "text": [
      "/tmp/ipykernel_10342/2368031123.py:21: DtypeWarning: Columns (85) have mixed types. Specify dtype option on import or set low_memory=False.\n",
      "  for df in pd.read_csv(file_path, chunksize=chunksize):\n"
     ]
    },
    {
     "name": "stdout",
     "output_type": "stream",
     "text": [
      "Chunk 11\n",
      "Malicious df contains labels: ['TFTP']\n",
      "Benign df contains labels: ['BENIGN']\n"
     ]
    },
    {
     "name": "stderr",
     "output_type": "stream",
     "text": [
      "/tmp/ipykernel_10342/2368031123.py:21: DtypeWarning: Columns (85) have mixed types. Specify dtype option on import or set low_memory=False.\n",
      "  for df in pd.read_csv(file_path, chunksize=chunksize):\n"
     ]
    },
    {
     "name": "stdout",
     "output_type": "stream",
     "text": [
      "Chunk 12\n",
      "Malicious df contains labels: ['TFTP']\n",
      "Benign df contains labels: ['BENIGN']\n",
      "Chunk 13\n",
      "Malicious df contains labels: ['TFTP']\n",
      "Benign df contains labels: ['BENIGN']\n"
     ]
    },
    {
     "name": "stderr",
     "output_type": "stream",
     "text": [
      "/tmp/ipykernel_10342/2368031123.py:21: DtypeWarning: Columns (85) have mixed types. Specify dtype option on import or set low_memory=False.\n",
      "  for df in pd.read_csv(file_path, chunksize=chunksize):\n"
     ]
    },
    {
     "name": "stdout",
     "output_type": "stream",
     "text": [
      "Chunk 14\n",
      "Malicious df contains labels: ['TFTP']\n",
      "Benign df contains labels: ['BENIGN']\n"
     ]
    },
    {
     "name": "stderr",
     "output_type": "stream",
     "text": [
      "/tmp/ipykernel_10342/2368031123.py:21: DtypeWarning: Columns (85) have mixed types. Specify dtype option on import or set low_memory=False.\n",
      "  for df in pd.read_csv(file_path, chunksize=chunksize):\n"
     ]
    },
    {
     "name": "stdout",
     "output_type": "stream",
     "text": [
      "Chunk 15\n",
      "Malicious df contains labels: ['TFTP']\n",
      "Benign df contains labels: ['BENIGN']\n"
     ]
    },
    {
     "name": "stderr",
     "output_type": "stream",
     "text": [
      "/tmp/ipykernel_10342/2368031123.py:21: DtypeWarning: Columns (85) have mixed types. Specify dtype option on import or set low_memory=False.\n",
      "  for df in pd.read_csv(file_path, chunksize=chunksize):\n"
     ]
    },
    {
     "name": "stdout",
     "output_type": "stream",
     "text": [
      "Chunk 16\n",
      "Malicious df contains labels: ['TFTP']\n",
      "Benign df contains labels: ['BENIGN']\n"
     ]
    },
    {
     "name": "stderr",
     "output_type": "stream",
     "text": [
      "/tmp/ipykernel_10342/2368031123.py:21: DtypeWarning: Columns (85) have mixed types. Specify dtype option on import or set low_memory=False.\n",
      "  for df in pd.read_csv(file_path, chunksize=chunksize):\n"
     ]
    },
    {
     "name": "stdout",
     "output_type": "stream",
     "text": [
      "Chunk 17\n",
      "Malicious df contains labels: ['TFTP']\n",
      "Benign df contains labels: ['BENIGN']\n"
     ]
    },
    {
     "name": "stderr",
     "output_type": "stream",
     "text": [
      "/tmp/ipykernel_10342/2368031123.py:21: DtypeWarning: Columns (85) have mixed types. Specify dtype option on import or set low_memory=False.\n",
      "  for df in pd.read_csv(file_path, chunksize=chunksize):\n"
     ]
    },
    {
     "name": "stdout",
     "output_type": "stream",
     "text": [
      "Chunk 18\n",
      "Malicious df contains labels: ['TFTP']\n",
      "Benign df contains labels: ['BENIGN']\n"
     ]
    },
    {
     "name": "stderr",
     "output_type": "stream",
     "text": [
      "/tmp/ipykernel_10342/2368031123.py:21: DtypeWarning: Columns (85) have mixed types. Specify dtype option on import or set low_memory=False.\n",
      "  for df in pd.read_csv(file_path, chunksize=chunksize):\n"
     ]
    },
    {
     "name": "stdout",
     "output_type": "stream",
     "text": [
      "Chunk 19\n",
      "Malicious df contains labels: ['TFTP']\n",
      "Benign df contains labels: ['BENIGN']\n"
     ]
    },
    {
     "name": "stderr",
     "output_type": "stream",
     "text": [
      "/tmp/ipykernel_10342/2368031123.py:21: DtypeWarning: Columns (85) have mixed types. Specify dtype option on import or set low_memory=False.\n",
      "  for df in pd.read_csv(file_path, chunksize=chunksize):\n"
     ]
    },
    {
     "name": "stdout",
     "output_type": "stream",
     "text": [
      "Chunk 20\n",
      "Malicious df contains labels: ['TFTP']\n",
      "Benign df contains labels: ['BENIGN']\n"
     ]
    },
    {
     "name": "stderr",
     "output_type": "stream",
     "text": [
      "/tmp/ipykernel_10342/2368031123.py:21: DtypeWarning: Columns (85) have mixed types. Specify dtype option on import or set low_memory=False.\n",
      "  for df in pd.read_csv(file_path, chunksize=chunksize):\n"
     ]
    },
    {
     "name": "stdout",
     "output_type": "stream",
     "text": [
      "Chunk 21\n",
      "Malicious df contains labels: ['TFTP']\n",
      "Benign df contains labels: ['BENIGN']\n",
      "CSV File: DrDoS_NTP.csv\n"
     ]
    },
    {
     "name": "stderr",
     "output_type": "stream",
     "text": [
      "/tmp/ipykernel_10342/2368031123.py:12: DtypeWarning: Columns (85) have mixed types. Specify dtype option on import or set low_memory=False.\n",
      "  df = pd.read_csv(file_path)\n"
     ]
    },
    {
     "name": "stdout",
     "output_type": "stream",
     "text": [
      "Malicious df contains labels: ['DrDoS_NTP']\n",
      "Benign df contains labels: ['BENIGN']\n",
      "CSV File: DrDoS_SNMP.csv\n"
     ]
    },
    {
     "name": "stderr",
     "output_type": "stream",
     "text": [
      "/tmp/ipykernel_10342/2368031123.py:12: DtypeWarning: Columns (85) have mixed types. Specify dtype option on import or set low_memory=False.\n",
      "  df = pd.read_csv(file_path)\n"
     ]
    },
    {
     "name": "stdout",
     "output_type": "stream",
     "text": [
      "Malicious df contains labels: ['DrDoS_SNMP']\n",
      "Benign df contains labels: ['BENIGN']\n",
      "CSV File: MSSQL.csv\n"
     ]
    },
    {
     "name": "stderr",
     "output_type": "stream",
     "text": [
      "/tmp/ipykernel_10342/2368031123.py:12: DtypeWarning: Columns (85) have mixed types. Specify dtype option on import or set low_memory=False.\n",
      "  df = pd.read_csv(file_path)\n"
     ]
    },
    {
     "name": "stdout",
     "output_type": "stream",
     "text": [
      "Malicious df contains labels: ['LDAP' 'MSSQL']\n",
      "Benign df contains labels: ['BENIGN']\n",
      "CSV File: UDPLag.csv\n"
     ]
    },
    {
     "name": "stderr",
     "output_type": "stream",
     "text": [
      "/tmp/ipykernel_10342/2368031123.py:12: DtypeWarning: Columns (85) have mixed types. Specify dtype option on import or set low_memory=False.\n",
      "  df = pd.read_csv(file_path)\n"
     ]
    },
    {
     "name": "stdout",
     "output_type": "stream",
     "text": [
      "Malicious df contains labels: ['UDP' 'UDPLag' 'Syn']\n",
      "Benign df contains labels: ['BENIGN']\n",
      "CSV File: Syn.csv\n"
     ]
    },
    {
     "name": "stderr",
     "output_type": "stream",
     "text": [
      "/tmp/ipykernel_10342/2368031123.py:12: DtypeWarning: Columns (85) have mixed types. Specify dtype option on import or set low_memory=False.\n",
      "  df = pd.read_csv(file_path)\n"
     ]
    },
    {
     "name": "stdout",
     "output_type": "stream",
     "text": [
      "Malicious df contains labels: ['Syn']\n",
      "Benign df contains labels: ['BENIGN']\n",
      "CSV File: Portmap.csv\n"
     ]
    },
    {
     "name": "stderr",
     "output_type": "stream",
     "text": [
      "/tmp/ipykernel_10342/2368031123.py:12: DtypeWarning: Columns (85) have mixed types. Specify dtype option on import or set low_memory=False.\n",
      "  df = pd.read_csv(file_path)\n"
     ]
    },
    {
     "name": "stdout",
     "output_type": "stream",
     "text": [
      "Malicious df contains labels: ['Portmap']\n",
      "Benign df contains labels: ['BENIGN']\n",
      "CSV File: LDAP.csv\n"
     ]
    },
    {
     "name": "stderr",
     "output_type": "stream",
     "text": [
      "/tmp/ipykernel_10342/2368031123.py:12: DtypeWarning: Columns (85) have mixed types. Specify dtype option on import or set low_memory=False.\n",
      "  df = pd.read_csv(file_path)\n"
     ]
    },
    {
     "name": "stdout",
     "output_type": "stream",
     "text": [
      "Malicious df contains labels: ['NetBIOS' 'LDAP']\n",
      "Benign df contains labels: ['BENIGN']\n",
      "CSV File: NetBIOS.csv\n"
     ]
    },
    {
     "name": "stderr",
     "output_type": "stream",
     "text": [
      "/tmp/ipykernel_10342/2368031123.py:12: DtypeWarning: Columns (85) have mixed types. Specify dtype option on import or set low_memory=False.\n",
      "  df = pd.read_csv(file_path)\n"
     ]
    },
    {
     "name": "stdout",
     "output_type": "stream",
     "text": [
      "Malicious df contains labels: ['NetBIOS']\n",
      "Benign df contains labels: ['BENIGN']\n",
      "CSV File: UDP.csv\n"
     ]
    },
    {
     "name": "stderr",
     "output_type": "stream",
     "text": [
      "/tmp/ipykernel_10342/2368031123.py:12: DtypeWarning: Columns (85) have mixed types. Specify dtype option on import or set low_memory=False.\n",
      "  df = pd.read_csv(file_path)\n"
     ]
    },
    {
     "name": "stdout",
     "output_type": "stream",
     "text": [
      "Malicious df contains labels: ['MSSQL' 'UDP']\n",
      "Benign df contains labels: ['BENIGN']\n",
      "As you can see, only packets with source or destination IP address equal to 172.16.0.5 are considered malicious by the CIC-DDoS2019 dataset authors (not mentioned in their paper or elsewhere)\n"
     ]
    }
   ],
   "source": [
    "checkDataframeSplitting('../../Datasets/CIC-DDOS2019/CSVs/01-12')\n",
    "checkDataframeSplitting('../../Datasets/CIC-DDOS2019/CSVs/03-11')\n",
    "\n",
    "print(\"As you can see, only packets with source or destination IP address equal to 172.16.0.5 are considered malicious by the CIC-DDoS2019 dataset authors (not mentioned in their paper or elsewhere)\")"
   ]
  }
 ],
 "metadata": {
  "kernelspec": {
   "display_name": "Python 3 (ipykernel)",
   "language": "python",
   "name": "python3"
  },
  "language_info": {
   "codemirror_mode": {
    "name": "ipython",
    "version": 3
   },
   "file_extension": ".py",
   "mimetype": "text/x-python",
   "name": "python",
   "nbconvert_exporter": "python",
   "pygments_lexer": "ipython3",
   "version": "3.9.18"
  }
 },
 "nbformat": 4,
 "nbformat_minor": 5
}
