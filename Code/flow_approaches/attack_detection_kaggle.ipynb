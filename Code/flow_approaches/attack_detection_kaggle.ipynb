{
 "cells": [
  {
   "cell_type": "code",
   "execution_count": null,
   "id": "0570a7e6",
   "metadata": {
    "lines_to_next_cell": 2
   },
   "outputs": [],
   "source": [
    "import pandas as pd\n",
    "import os\n",
    "\n",
    "dataset_path = '../../Datasets/CIC-DDOS2019/Kaggle Preprocessed/'\n",
    "dataframes = []\n",
    "file_list = os.listdir(dataset_path)\n",
    "for file_name in file_list:\n",
    "    if file_name.endswith('.parquet'):\n",
    "        file_path = os.path.join(dataset_path, file_name)\n",
    "        df = pd.read_parquet(file_path)\n",
    "        dataframes.append(df)"
   ]
  },
  {
   "cell_type": "code",
   "execution_count": null,
   "id": "4b6b899b",
   "metadata": {},
   "outputs": [],
   "source": [
    "# Concatenate dataset files and correct labels\n",
    "df = pd.concat(dataframes)\n",
    "del dataframes\n",
    "df['Label'] = df['Label'].str.replace('DrDoS_DNS', 'DNS')\n",
    "df['Label'] = df['Label'].str.replace('DrDoS_LDAP', 'LDAP')\n",
    "df['Label'] = df['Label'].str.replace('DrDoS_MSSQL', 'MSSQL')\n",
    "df['Label'] = df['Label'].str.replace('DrDoS_NTP', 'NTP')\n",
    "df['Label'] = df['Label'].str.replace('DrDoS_NetBIOS', 'NetBIOS')\n",
    "df['Label'] = df['Label'].str.replace('DrDoS_SNMP', 'SNMP')\n",
    "df['Label'] = df['Label'].str.replace('DrDoS-SSDP', 'SSDP')\n",
    "df['Label'] = df['Label'].str.replace('DrDoS_UDP', 'UDP')\n",
    "df['Label'] = df['Label'].str.replace('UDPLag', 'UDP-lag')"
   ]
  },
  {
   "cell_type": "code",
   "execution_count": null,
   "id": "61f6e9d9",
   "metadata": {},
   "outputs": [],
   "source": [
    "# Remove classes that have few samples in the graphs approach for conformity\n",
    "df = df[df['Label'] != 'DNS']\n",
    "df = df[df['Label'] != 'LDAP']\n",
    "df = df[df['Label'] != 'MSSQL']\n",
    "df = df[df['Label'] != 'NTP']\n",
    "df = df[df['Label'] != 'NetBIOS']\n",
    "df = df[df['Label'] != 'SNMP']\n",
    "df = df[df['Label'] != 'SSDP']\n",
    "df = df[df['Label'] != 'Portmap']\n",
    "df = df[df['Label'] != 'WebDDoS']"
   ]
  },
  {
   "cell_type": "code",
   "execution_count": null,
   "id": "0fccb71b",
   "metadata": {},
   "outputs": [],
   "source": [
    "# Set all attack labels to Malicious class\n",
    "df.loc[df['Label'] != 'Benign', 'Label'] = 'Malicious' # type: ignore"
   ]
  },
  {
   "cell_type": "code",
   "execution_count": null,
   "id": "bb0d749d",
   "metadata": {},
   "outputs": [],
   "source": [
    "data = df[df.columns[:-1]] # type: ignore\n",
    "categories = df['Label'].astype('category')"
   ]
  },
  {
   "cell_type": "code",
   "execution_count": null,
   "id": "d4829360",
   "metadata": {},
   "outputs": [],
   "source": [
    "from sklearn.preprocessing import MinMaxScaler\n",
    "scaler = MinMaxScaler(feature_range=(0,1))\n",
    "data = scaler.fit_transform(data)"
   ]
  },
  {
   "cell_type": "code",
   "execution_count": null,
   "id": "faf49f0f",
   "metadata": {
    "scrolled": true
   },
   "outputs": [],
   "source": [
    "# 10-fold data (for 10-fold cross validation), \n",
    "from sklearn.model_selection import StratifiedKFold\n",
    "from run_models.run_models import run_models\n",
    "from imblearn.over_sampling import SMOTE\n",
    "n_splits = 10\n",
    "kf = StratifiedKFold(n_splits=n_splits, shuffle=True)\n",
    "results = []\n",
    "current_split = 1\n",
    "for train_idx, test_idx in kf.split(data, categories):\n",
    "    print(f\"Fold {current_split}/{n_splits}\")\n",
    "    data_train, data_test = data[train_idx], data[test_idx]\n",
    "    categories_train, categories_test = categories.iloc[train_idx], categories.iloc[test_idx] # type: ignore\n",
    "    # Oversample infrequent data using SMOTE\n",
    "    ros = SMOTE(random_state=101)\n",
    "    data_train, categories_train = ros.fit_resample(data_train, categories_train) # type: ignore\n",
    "    results.append(run_models(data_train, categories_train, data_test, categories_test))\n",
    "    current_split += 1"
   ]
  },
  {
   "cell_type": "code",
   "execution_count": null,
   "id": "54d72bd9",
   "metadata": {},
   "outputs": [],
   "source": [
    "from classifiers.get_mean_performance import get_mean_performance\n",
    "display(get_mean_performance(results,n_splits)) # type: ignore"
   ]
  }
 ],
 "metadata": {
  "kernelspec": {
   "display_name": "Python 3 (ipykernel)",
   "language": "python",
   "name": "python3"
  },
  "language_info": {
   "codemirror_mode": {
    "name": "ipython",
    "version": 3
   },
   "file_extension": ".py",
   "mimetype": "text/x-python",
   "name": "python",
   "nbconvert_exporter": "python",
   "pygments_lexer": "ipython3",
   "version": "3.9.19"
  }
 },
 "nbformat": 4,
 "nbformat_minor": 5
}
